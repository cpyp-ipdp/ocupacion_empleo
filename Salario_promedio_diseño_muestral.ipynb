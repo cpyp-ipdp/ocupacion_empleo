{
 "cells": [
  {
   "cell_type": "markdown",
   "metadata": {},
   "source": [
    "Prueba de cálculo de salario promedio general  y desagregado por sexo en la Ciudad de México\n",
    "\n",
    "Serie longitudinal: últimos trimestres de 2021-2024"
   ]
  },
  {
   "cell_type": "code",
   "execution_count": 17,
   "metadata": {
    "vscode": {
     "languageId": "r"
    }
   },
   "outputs": [],
   "source": [
    "if(! require('pacman')) install.packages('pacman')\n",
    "pacman::p_load(tidyverse, srvyr, janitor, stringr, writexl)"
   ]
  },
  {
   "cell_type": "markdown",
   "metadata": {},
   "source": [
    "Descargar y leer los archivos csv"
   ]
  },
  {
   "cell_type": "code",
   "execution_count": 18,
   "metadata": {
    "vscode": {
     "languageId": "r"
    }
   },
   "outputs": [],
   "source": [
    "dir_datos <- 'enoe_datos'\n",
    "if (!dir.exists(dir_datos)) {\n",
    "    dir.create(dir_datos)\n",
    "}"
   ]
  },
  {
   "cell_type": "code",
   "execution_count": 19,
   "metadata": {
    "vscode": {
     "languageId": "r"
    }
   },
   "outputs": [],
   "source": [
    "descargar_enoe_csv <- function() {\n",
    "    options(timeout = 90000)\n",
    "\n",
    "    descargar_extraer <- function(url, destino) {\n",
    "        temp <- tempfile()\n",
    "        download.file(url, temp, mode = 'wb')\n",
    "        unzip(temp, exdir = destino)\n",
    "        unlink(temp)\n",
    "\n",
    "    }\n",
    "    \n",
    "    #iterar los años de descarga    \n",
    "    for(i in 21:22) {\n",
    "        url <- paste0('https://www.inegi.org.mx/contenidos/programas/enoe/15ymas/microdatos/enoe_n_20', i, '_trim4_csv.zip')\n",
    "        descargar_extraer(url, dir_datos)\n",
    "    }\n",
    "\n",
    "    for(i in 23:24) {\n",
    "        url <- paste0('https://www.inegi.org.mx/contenidos/programas/enoe/15ymas/microdatos/enoe_20', i, '_trim4_csv.zip')\n",
    "        descargar_extraer(url, dir_datos)\n",
    "    }\n",
    "}"
   ]
  },
  {
   "cell_type": "code",
   "execution_count": 20,
   "metadata": {
    "vscode": {
     "languageId": "r"
    }
   },
   "outputs": [],
   "source": [
    "descargar_enoe_csv()"
   ]
  },
  {
   "cell_type": "code",
   "execution_count": 21,
   "metadata": {
    "vscode": {
     "languageId": "r"
    }
   },
   "outputs": [
    {
     "name": "stderr",
     "output_type": "stream",
     "text": [
      "Warning message:\n",
      "\"\u001b[1m\u001b[22mOne or more parsing issues, call `problems()` on your data frame for details,\n",
      "e.g.:\n",
      "  dat <- vroom(...)\n",
      "  problems(dat)\"\n",
      "Warning message:\n",
      "\"\u001b[1m\u001b[22mOne or more parsing issues, call `problems()` on your data frame for details,\n",
      "e.g.:\n",
      "  dat <- vroom(...)\n",
      "  problems(dat)\"\n",
      "Warning message:\n",
      "\"\u001b[1m\u001b[22mOne or more parsing issues, call `problems()` on your data frame for details,\n",
      "e.g.:\n",
      "  dat <- vroom(...)\n",
      "  problems(dat)\"\n",
      "Warning message:\n",
      "\"\u001b[1m\u001b[22mOne or more parsing issues, call `problems()` on your data frame for details,\n",
      "e.g.:\n",
      "  dat <- vroom(...)\n",
      "  problems(dat)\"\n"
     ]
    }
   ],
   "source": [
    "archivos <- list.files(path = dir_datos, pattern = 'sdem.*\\\\.csv$', full.names = TRUE, ignore.case = TRUE)\n",
    "datos <- archivos %>%\n",
    "lapply(read_csv, show_col_types = FALSE)\n"
   ]
  },
  {
   "cell_type": "code",
   "execution_count": 22,
   "metadata": {
    "vscode": {
     "languageId": "r"
    }
   },
   "outputs": [],
   "source": [
    "tablas <- list()  # Crear lista vacía para almacenar los resultados\n",
    "\n",
    "for (i in seq_along(datos)) {\n",
    "  tablas[[i]] <- datos[[i]] %>%\n",
    "    clean_names() %>%\n",
    "    mutate(ano = as.numeric(str_extract(archivos[i], '\\\\d{2}(?=\\\\.csv$)')))\n",
    "}\n",
    "\n",
    "sdem <- bind_rows(tablas)\n"
   ]
  },
  {
   "cell_type": "markdown",
   "metadata": {},
   "source": [
    "Diseño muestral"
   ]
  },
  {
   "cell_type": "code",
   "execution_count": 23,
   "metadata": {
    "vscode": {
     "languageId": "r"
    }
   },
   "outputs": [],
   "source": [
    "#Escenario complejo\n",
    "enoe_svy <- as_survey_design(\n",
    "    .data = sdem,\n",
    "    ids = upm,\n",
    "    strata = est_d_tri,\n",
    "    weights = fac_tri,\n",
    "    nest = TRUE \n",
    ") "
   ]
  },
  {
   "cell_type": "markdown",
   "metadata": {},
   "source": [
    "Cálculo de salario promedio"
   ]
  },
  {
   "cell_type": "code",
   "execution_count": 24,
   "metadata": {
    "vscode": {
     "languageId": "r"
    }
   },
   "outputs": [],
   "source": [
    "#Población general\n",
    "gral_svy <- enoe_svy %>%\n",
    "filter(r_def ==00, (c_res == 1 | c_res == 3),\n",
    "         eda >= 15  & eda <= 98) %>%\n",
    "filter(ent == 9, clase2 == 1) #Filtrar por población ocupada en la Ciudad de México"
   ]
  },
  {
   "cell_type": "code",
   "execution_count": 25,
   "metadata": {
    "vscode": {
     "languageId": "r"
    }
   },
   "outputs": [
    {
     "data": {
      "text/html": [
       "<table class=\"dataframe\">\n",
       "<caption>A tibble: 4 × 3</caption>\n",
       "<thead>\n",
       "\t<tr><th scope=col>ano</th><th scope=col>ocupados</th><th scope=col>ocupados_cv</th></tr>\n",
       "\t<tr><th scope=col>&lt;dbl&gt;</th><th scope=col>&lt;dbl&gt;</th><th scope=col>&lt;dbl&gt;</th></tr>\n",
       "</thead>\n",
       "<tbody>\n",
       "\t<tr><td>21</td><td>4465106</td><td>0.02862150</td></tr>\n",
       "\t<tr><td>22</td><td>4698174</td><td>0.02704023</td></tr>\n",
       "\t<tr><td>23</td><td>4657701</td><td>0.02614882</td></tr>\n",
       "\t<tr><td>24</td><td>5010045</td><td>0.02470715</td></tr>\n",
       "</tbody>\n",
       "</table>\n"
      ],
      "text/latex": [
       "A tibble: 4 × 3\n",
       "\\begin{tabular}{lll}\n",
       " ano & ocupados & ocupados\\_cv\\\\\n",
       " <dbl> & <dbl> & <dbl>\\\\\n",
       "\\hline\n",
       "\t 21 & 4465106 & 0.02862150\\\\\n",
       "\t 22 & 4698174 & 0.02704023\\\\\n",
       "\t 23 & 4657701 & 0.02614882\\\\\n",
       "\t 24 & 5010045 & 0.02470715\\\\\n",
       "\\end{tabular}\n"
      ],
      "text/markdown": [
       "\n",
       "A tibble: 4 × 3\n",
       "\n",
       "| ano &lt;dbl&gt; | ocupados &lt;dbl&gt; | ocupados_cv &lt;dbl&gt; |\n",
       "|---|---|---|\n",
       "| 21 | 4465106 | 0.02862150 |\n",
       "| 22 | 4698174 | 0.02704023 |\n",
       "| 23 | 4657701 | 0.02614882 |\n",
       "| 24 | 5010045 | 0.02470715 |\n",
       "\n"
      ],
      "text/plain": [
       "  ano ocupados ocupados_cv\n",
       "1 21  4465106  0.02862150 \n",
       "2 22  4698174  0.02704023 \n",
       "3 23  4657701  0.02614882 \n",
       "4 24  5010045  0.02470715 "
      ]
     },
     "metadata": {},
     "output_type": "display_data"
    }
   ],
   "source": [
    "##Ocupados totales\n",
    "\n",
    "gral_svy %>%\n",
    "    group_by(ano) %>%\n",
    "    summarize(ocupados = survey_total(vartype=\"cv\"))"
   ]
  },
  {
   "cell_type": "code",
   "execution_count": 38,
   "metadata": {
    "vscode": {
     "languageId": "r"
    }
   },
   "outputs": [
    {
     "data": {
      "text/html": [
       "<table class=\"dataframe\">\n",
       "<caption>A tibble: 4 × 3</caption>\n",
       "<thead>\n",
       "\t<tr><th scope=col>ano</th><th scope=col>sal_prom_gral</th><th scope=col>sal_prom_gral_cv</th></tr>\n",
       "\t<tr><th scope=col>&lt;dbl&gt;</th><th scope=col>&lt;dbl&gt;</th><th scope=col>&lt;dbl&gt;</th></tr>\n",
       "</thead>\n",
       "<tbody>\n",
       "\t<tr><td>21</td><td>4426.396</td><td>0.04723698</td></tr>\n",
       "\t<tr><td>22</td><td>4177.289</td><td>0.04604882</td></tr>\n",
       "\t<tr><td>23</td><td>4982.462</td><td>0.05547990</td></tr>\n",
       "\t<tr><td>24</td><td>6182.284</td><td>0.05409411</td></tr>\n",
       "</tbody>\n",
       "</table>\n"
      ],
      "text/latex": [
       "A tibble: 4 × 3\n",
       "\\begin{tabular}{lll}\n",
       " ano & sal\\_prom\\_gral & sal\\_prom\\_gral\\_cv\\\\\n",
       " <dbl> & <dbl> & <dbl>\\\\\n",
       "\\hline\n",
       "\t 21 & 4426.396 & 0.04723698\\\\\n",
       "\t 22 & 4177.289 & 0.04604882\\\\\n",
       "\t 23 & 4982.462 & 0.05547990\\\\\n",
       "\t 24 & 6182.284 & 0.05409411\\\\\n",
       "\\end{tabular}\n"
      ],
      "text/markdown": [
       "\n",
       "A tibble: 4 × 3\n",
       "\n",
       "| ano &lt;dbl&gt; | sal_prom_gral &lt;dbl&gt; | sal_prom_gral_cv &lt;dbl&gt; |\n",
       "|---|---|---|\n",
       "| 21 | 4426.396 | 0.04723698 |\n",
       "| 22 | 4177.289 | 0.04604882 |\n",
       "| 23 | 4982.462 | 0.05547990 |\n",
       "| 24 | 6182.284 | 0.05409411 |\n",
       "\n"
      ],
      "text/plain": [
       "  ano sal_prom_gral sal_prom_gral_cv\n",
       "1 21  4426.396      0.04723698      \n",
       "2 22  4177.289      0.04604882      \n",
       "3 23  4982.462      0.05547990      \n",
       "4 24  6182.284      0.05409411      "
      ]
     },
     "metadata": {},
     "output_type": "display_data"
    }
   ],
   "source": [
    "#Salario promedio general\n",
    "salario_general <- gral_svy %>%\n",
    "group_by(ano) %>%\n",
    "summarise(sal_prom_gral = survey_mean(ingocup, na.rm = TRUE,vartype=\"cv\"))\n",
    "salario_general"
   ]
  },
  {
   "cell_type": "code",
   "execution_count": 45,
   "metadata": {
    "vscode": {
     "languageId": "r"
    }
   },
   "outputs": [
    {
     "data": {
      "text/html": [
       "<table class=\"dataframe\">\n",
       "<caption>A grouped_df: 8 × 4</caption>\n",
       "<thead>\n",
       "\t<tr><th scope=col>ano</th><th scope=col>sex</th><th scope=col>sal_prom</th><th scope=col>sal_prom_cv</th></tr>\n",
       "\t<tr><th scope=col>&lt;dbl&gt;</th><th scope=col>&lt;dbl&gt;</th><th scope=col>&lt;dbl&gt;</th><th scope=col>&lt;dbl&gt;</th></tr>\n",
       "</thead>\n",
       "<tbody>\n",
       "\t<tr><td>21</td><td>1</td><td>4976.284</td><td>0.06213587</td></tr>\n",
       "\t<tr><td>21</td><td>2</td><td>3737.557</td><td>0.04918425</td></tr>\n",
       "\t<tr><td>22</td><td>1</td><td>4481.992</td><td>0.05180844</td></tr>\n",
       "\t<tr><td>22</td><td>2</td><td>3805.648</td><td>0.06257485</td></tr>\n",
       "\t<tr><td>23</td><td>1</td><td>5245.048</td><td>0.06716809</td></tr>\n",
       "\t<tr><td>23</td><td>2</td><td>4663.149</td><td>0.07953083</td></tr>\n",
       "\t<tr><td>24</td><td>1</td><td>6586.656</td><td>0.07467182</td></tr>\n",
       "\t<tr><td>24</td><td>2</td><td>5740.381</td><td>0.06102456</td></tr>\n",
       "</tbody>\n",
       "</table>\n"
      ],
      "text/latex": [
       "A grouped\\_df: 8 × 4\n",
       "\\begin{tabular}{llll}\n",
       " ano & sex & sal\\_prom & sal\\_prom\\_cv\\\\\n",
       " <dbl> & <dbl> & <dbl> & <dbl>\\\\\n",
       "\\hline\n",
       "\t 21 & 1 & 4976.284 & 0.06213587\\\\\n",
       "\t 21 & 2 & 3737.557 & 0.04918425\\\\\n",
       "\t 22 & 1 & 4481.992 & 0.05180844\\\\\n",
       "\t 22 & 2 & 3805.648 & 0.06257485\\\\\n",
       "\t 23 & 1 & 5245.048 & 0.06716809\\\\\n",
       "\t 23 & 2 & 4663.149 & 0.07953083\\\\\n",
       "\t 24 & 1 & 6586.656 & 0.07467182\\\\\n",
       "\t 24 & 2 & 5740.381 & 0.06102456\\\\\n",
       "\\end{tabular}\n"
      ],
      "text/markdown": [
       "\n",
       "A grouped_df: 8 × 4\n",
       "\n",
       "| ano &lt;dbl&gt; | sex &lt;dbl&gt; | sal_prom &lt;dbl&gt; | sal_prom_cv &lt;dbl&gt; |\n",
       "|---|---|---|---|\n",
       "| 21 | 1 | 4976.284 | 0.06213587 |\n",
       "| 21 | 2 | 3737.557 | 0.04918425 |\n",
       "| 22 | 1 | 4481.992 | 0.05180844 |\n",
       "| 22 | 2 | 3805.648 | 0.06257485 |\n",
       "| 23 | 1 | 5245.048 | 0.06716809 |\n",
       "| 23 | 2 | 4663.149 | 0.07953083 |\n",
       "| 24 | 1 | 6586.656 | 0.07467182 |\n",
       "| 24 | 2 | 5740.381 | 0.06102456 |\n",
       "\n"
      ],
      "text/plain": [
       "  ano sex sal_prom sal_prom_cv\n",
       "1 21  1   4976.284 0.06213587 \n",
       "2 21  2   3737.557 0.04918425 \n",
       "3 22  1   4481.992 0.05180844 \n",
       "4 22  2   3805.648 0.06257485 \n",
       "5 23  1   5245.048 0.06716809 \n",
       "6 23  2   4663.149 0.07953083 \n",
       "7 24  1   6586.656 0.07467182 \n",
       "8 24  2   5740.381 0.06102456 "
      ]
     },
     "metadata": {},
     "output_type": "display_data"
    }
   ],
   "source": [
    "#Salario promedio por sexo\n",
    "salario_sex <- gral_svy %>%\n",
    "group_by(ano, sex) %>%\n",
    "summarise(sal_prom = survey_mean(ingocup, na.rm = TRUE, vartype=\"cv\"))\n",
    "salario_sex\n"
   ]
  },
  {
   "cell_type": "code",
   "execution_count": null,
   "metadata": {
    "vscode": {
     "languageId": "r"
    }
   },
   "outputs": [
    {
     "data": {
      "text/html": [
       "<table class=\"dataframe\">\n",
       "<caption>A grouped_df: 4 × 3</caption>\n",
       "<thead>\n",
       "\t<tr><th scope=col>ano</th><th scope=col>sal_prom_1</th><th scope=col>sal_prom_2</th></tr>\n",
       "\t<tr><th scope=col>&lt;dbl&gt;</th><th scope=col>&lt;dbl&gt;</th><th scope=col>&lt;dbl&gt;</th></tr>\n",
       "</thead>\n",
       "<tbody>\n",
       "\t<tr><td>21</td><td>4976.284</td><td>3737.557</td></tr>\n",
       "\t<tr><td>22</td><td>4481.992</td><td>3805.648</td></tr>\n",
       "\t<tr><td>23</td><td>5245.048</td><td>4663.149</td></tr>\n",
       "\t<tr><td>24</td><td>6586.656</td><td>5740.381</td></tr>\n",
       "</tbody>\n",
       "</table>\n"
      ],
      "text/latex": [
       "A grouped\\_df: 4 × 3\n",
       "\\begin{tabular}{lll}\n",
       " ano & sal\\_prom\\_1 & sal\\_prom\\_2\\\\\n",
       " <dbl> & <dbl> & <dbl>\\\\\n",
       "\\hline\n",
       "\t 21 & 4976.284 & 3737.557\\\\\n",
       "\t 22 & 4481.992 & 3805.648\\\\\n",
       "\t 23 & 5245.048 & 4663.149\\\\\n",
       "\t 24 & 6586.656 & 5740.381\\\\\n",
       "\\end{tabular}\n"
      ],
      "text/markdown": [
       "\n",
       "A grouped_df: 4 × 3\n",
       "\n",
       "| ano &lt;dbl&gt; | sal_prom_1 &lt;dbl&gt; | sal_prom_2 &lt;dbl&gt; |\n",
       "|---|---|---|\n",
       "| 21 | 4976.284 | 3737.557 |\n",
       "| 22 | 4481.992 | 3805.648 |\n",
       "| 23 | 5245.048 | 4663.149 |\n",
       "| 24 | 6586.656 | 5740.381 |\n",
       "\n"
      ],
      "text/plain": [
       "  ano sal_prom_1 sal_prom_2\n",
       "1 21  4976.284   3737.557  \n",
       "2 22  4481.992   3805.648  \n",
       "3 23  5245.048   4663.149  \n",
       "4 24  6586.656   5740.381  "
      ]
     },
     "metadata": {},
     "output_type": "display_data"
    }
   ],
   "source": [
    "salario_sex<-salario_sex%>%\n",
    "select(-sal_prom_cv) %>%\n",
    "pivot_wider(names_from = sex, values_from = sal_prom, names_prefix = \"sal_prom_\")\n",
    "salario_sex \n"
   ]
  },
  {
   "cell_type": "code",
   "execution_count": 47,
   "metadata": {
    "vscode": {
     "languageId": "r"
    }
   },
   "outputs": [
    {
     "data": {
      "text/html": [
       "<table class=\"dataframe\">\n",
       "<caption>A tibble: 4 × 4</caption>\n",
       "<thead>\n",
       "\t<tr><th scope=col>ano</th><th scope=col>sal_prom_gral</th><th scope=col>sal_prom_hombres</th><th scope=col>sal_prom_mujeres</th></tr>\n",
       "\t<tr><th scope=col>&lt;dbl&gt;</th><th scope=col>&lt;dbl&gt;</th><th scope=col>&lt;dbl&gt;</th><th scope=col>&lt;dbl&gt;</th></tr>\n",
       "</thead>\n",
       "<tbody>\n",
       "\t<tr><td>21</td><td>4426.396</td><td>4976.284</td><td>3737.557</td></tr>\n",
       "\t<tr><td>22</td><td>4177.289</td><td>4481.992</td><td>3805.648</td></tr>\n",
       "\t<tr><td>23</td><td>4982.462</td><td>5245.048</td><td>4663.149</td></tr>\n",
       "\t<tr><td>24</td><td>6182.284</td><td>6586.656</td><td>5740.381</td></tr>\n",
       "</tbody>\n",
       "</table>\n"
      ],
      "text/latex": [
       "A tibble: 4 × 4\n",
       "\\begin{tabular}{llll}\n",
       " ano & sal\\_prom\\_gral & sal\\_prom\\_hombres & sal\\_prom\\_mujeres\\\\\n",
       " <dbl> & <dbl> & <dbl> & <dbl>\\\\\n",
       "\\hline\n",
       "\t 21 & 4426.396 & 4976.284 & 3737.557\\\\\n",
       "\t 22 & 4177.289 & 4481.992 & 3805.648\\\\\n",
       "\t 23 & 4982.462 & 5245.048 & 4663.149\\\\\n",
       "\t 24 & 6182.284 & 6586.656 & 5740.381\\\\\n",
       "\\end{tabular}\n"
      ],
      "text/markdown": [
       "\n",
       "A tibble: 4 × 4\n",
       "\n",
       "| ano &lt;dbl&gt; | sal_prom_gral &lt;dbl&gt; | sal_prom_hombres &lt;dbl&gt; | sal_prom_mujeres &lt;dbl&gt; |\n",
       "|---|---|---|---|\n",
       "| 21 | 4426.396 | 4976.284 | 3737.557 |\n",
       "| 22 | 4177.289 | 4481.992 | 3805.648 |\n",
       "| 23 | 4982.462 | 5245.048 | 4663.149 |\n",
       "| 24 | 6182.284 | 6586.656 | 5740.381 |\n",
       "\n"
      ],
      "text/plain": [
       "  ano sal_prom_gral sal_prom_hombres sal_prom_mujeres\n",
       "1 21  4426.396      4976.284         3737.557        \n",
       "2 22  4177.289      4481.992         3805.648        \n",
       "3 23  4982.462      5245.048         4663.149        \n",
       "4 24  6182.284      6586.656         5740.381        "
      ]
     },
     "metadata": {},
     "output_type": "display_data"
    }
   ],
   "source": [
    "salario_general <- salario_general %>%\n",
    "select(-sal_prom_gral_cv) %>%\n",
    "right_join(salario_sex, by = 'ano') %>%\n",
    "select(ano, sal_prom_gral, sal_prom_1, sal_prom_2) %>%\n",
    "rename(sal_prom_hombres = sal_prom_1, sal_prom_mujeres = sal_prom_2)\n",
    "salario_general"
   ]
  }
 ],
 "metadata": {
  "kernelspec": {
   "display_name": "R",
   "language": "R",
   "name": "ir"
  },
  "language_info": {
   "codemirror_mode": "r",
   "file_extension": ".r",
   "mimetype": "text/x-r-source",
   "name": "R",
   "pygments_lexer": "r",
   "version": "4.4.1"
  }
 },
 "nbformat": 4,
 "nbformat_minor": 2
}
